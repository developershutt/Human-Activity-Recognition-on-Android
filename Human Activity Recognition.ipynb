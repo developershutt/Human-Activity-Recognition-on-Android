{
 "cells": [
  {
   "cell_type": "markdown",
   "metadata": {},
   "source": [
    "# Human Activity Recognition\n",
    "\n",
    "### Step 1: Download the dataset from link \n",
    "\n",
    "https://www.utwente.nl/en/eemcs/ps/dataset-folder/sensors-activity-recognition-dataset-shoaib.rar\n"
   ]
  },
  {
   "cell_type": "code",
   "execution_count": null,
   "metadata": {},
   "outputs": [],
   "source": [
    "import urllib.request\n",
    "\n",
    "print('Downloading dataset')\n",
    "\n",
    "url = 'https://www.utwente.nl/en/eemcs/ps/dataset-folder/sensors-activity-recognition-dataset-shoaib.rar'\n",
    "urllib.request.urlretrieve(url, 'HAR_dataset.rar')\n",
    "\n",
    "print('Download completed')"
   ]
  },
  {
   "cell_type": "markdown",
   "metadata": {},
   "source": [
    "### Step 2: Extract in the working directory\n"
   ]
  },
  {
   "cell_type": "code",
   "execution_count": null,
   "metadata": {},
   "outputs": [],
   "source": [
    "!pip3 install pyunpack\n",
    "!pip3 install patool\n",
    "from pyunpack import Archive\n",
    "Archive('HAR_dataset.rar').extractall('.')"
   ]
  },
  {
   "cell_type": "markdown",
   "metadata": {},
   "source": [
    "### Step 3: Download Libraries\n"
   ]
  },
  {
   "cell_type": "code",
   "execution_count": null,
   "metadata": {},
   "outputs": [],
   "source": [
    "!pip3 install tensorflow==1.13.1\n",
    "!pip3 install tensorflow-gpu==1.13.1\n",
    "!pip3 install keras==2.2.0\n",
    "!pip3 install pandas\n",
    "!pip3 install numpy==1.14"
   ]
  },
  {
   "cell_type": "code",
   "execution_count": null,
   "metadata": {},
   "outputs": [],
   "source": [
    "# import libs\n",
    "import numpy as np\n",
    "import pandas as pd\n",
    "import matplotlib.pyplot as plt\n",
    "import os"
   ]
  },
  {
   "cell_type": "code",
   "execution_count": null,
   "metadata": {},
   "outputs": [],
   "source": [
    "path='dataset/'\n",
    "files=[file for file in os.listdir(path) if file.endswith('.csv')]\n",
    "files"
   ]
  },
  {
   "cell_type": "code",
   "execution_count": null,
   "metadata": {
    "scrolled": true
   },
   "outputs": [],
   "source": [
    "# load a file into memory\n",
    "df=pd.read_csv(path+files[0],header=1)\n",
    "df.head()"
   ]
  },
  {
   "cell_type": "code",
   "execution_count": null,
   "metadata": {},
   "outputs": [],
   "source": [
    "df['Unnamed: 69'].unique()"
   ]
  },
  {
   "cell_type": "markdown",
   "metadata": {},
   "source": [
    "## Visualize the difference in change in values w.r.t activity"
   ]
  },
  {
   "cell_type": "code",
   "execution_count": null,
   "metadata": {},
   "outputs": [],
   "source": [
    "# change in values while walking\n",
    "\n",
    "plt.plot(np.arange(0,100),df.Ax[df['Unnamed: 69']==\"walking\"][:100], label='X-axis')\n",
    "plt.plot(np.arange(0,100),df.Ay[df['Unnamed: 69']==\"walking\"][:100], label='Y-axis')\n",
    "plt.plot(np.arange(0,100),df.Az[df['Unnamed: 69']==\"walking\"][:100], label='Z-axis')\n",
    "plt.legend()"
   ]
  },
  {
   "cell_type": "code",
   "execution_count": null,
   "metadata": {},
   "outputs": [],
   "source": [
    "# change in values while standing\n",
    "\n",
    "plt.plot(np.arange(0,100),df.Ax[df['Unnamed: 69']==\"standing\"][:100], label='X-axis')\n",
    "plt.plot(np.arange(0,100),df.Ay[df['Unnamed: 69']==\"standing\"][:100], label='Y-axis')\n",
    "plt.plot(np.arange(0,100),df.Az[df['Unnamed: 69']==\"standing\"][:100], label='Z-axis')\n",
    "plt.legend()"
   ]
  },
  {
   "cell_type": "code",
   "execution_count": null,
   "metadata": {},
   "outputs": [],
   "source": [
    "# change in values while biking\n",
    "\n",
    "plt.plot(np.arange(0,100),df.Ax[df['Unnamed: 69']==\"biking\"][:100], label='X-axis')\n",
    "plt.plot(np.arange(0,100),df.Ay[df['Unnamed: 69']==\"biking\"][:100], label='Y-axis')\n",
    "plt.plot(np.arange(0,100),df.Az[df['Unnamed: 69']==\"biking\"][:100], label='Z-axis')\n",
    "plt.legend()"
   ]
  },
  {
   "cell_type": "code",
   "execution_count": null,
   "metadata": {},
   "outputs": [],
   "source": [
    "# change in values while jogging\n",
    "\n",
    "plt.plot(np.arange(0,100),df.Ax[df['Unnamed: 69']==\"jogging\"][:100], label='X-axis')\n",
    "plt.plot(np.arange(0,100),df.Ay[df['Unnamed: 69']==\"jogging\"][:100], label='Y-axis')\n",
    "plt.plot(np.arange(0,100),df.Az[df['Unnamed: 69']==\"jogging\"][:100], label='Z-axis')\n",
    "plt.legend()"
   ]
  },
  {
   "cell_type": "markdown",
   "metadata": {},
   "source": [
    "## Load and concatenate all files into one dataframe"
   ]
  },
  {
   "cell_type": "code",
   "execution_count": null,
   "metadata": {},
   "outputs": [],
   "source": [
    "df=pd.DataFrame()\n",
    "\n",
    "for file in files:\n",
    "    df_temp=pd.read_csv(path+file,header=1)\n",
    "    df=pd.concat([df,df_temp], sort=False)\n",
    "df"
   ]
  },
  {
   "cell_type": "code",
   "execution_count": null,
   "metadata": {},
   "outputs": [],
   "source": [
    "for i in df.columns:\n",
    "    print(i)"
   ]
  },
  {
   "cell_type": "code",
   "execution_count": null,
   "metadata": {},
   "outputs": [],
   "source": [
    "# split out left and right pocket data\n",
    "\n",
    "left_pocket = df[df.columns[1:10]]\n",
    "left_pocket"
   ]
  },
  {
   "cell_type": "code",
   "execution_count": null,
   "metadata": {},
   "outputs": [],
   "source": [
    "right_pocket = df[df.columns[15:24]]\n",
    "right_pocket.columns=left_pocket.columns\n",
    "right_pocket"
   ]
  },
  {
   "cell_type": "code",
   "execution_count": null,
   "metadata": {},
   "outputs": [],
   "source": [
    "# concatenate left and right split in one data frame\n",
    "\n",
    "train_df=pd.concat([left_pocket,right_pocket],sort=False)\n",
    "train_df"
   ]
  },
  {
   "cell_type": "code",
   "execution_count": null,
   "metadata": {},
   "outputs": [],
   "source": [
    "# restore labels in dataframe\n",
    "labels=pd.concat([df['Unnamed: 69'],df['Unnamed: 69']],axis=0, sort=False)\n",
    "labels.columns=['Activity']\n",
    "train_df['Activity']=labels\n",
    "train_df"
   ]
  },
  {
   "cell_type": "code",
   "execution_count": null,
   "metadata": {},
   "outputs": [],
   "source": [
    "#check for unique labels\n",
    "train_df.Activity.unique()"
   ]
  },
  {
   "cell_type": "code",
   "execution_count": null,
   "metadata": {},
   "outputs": [],
   "source": [
    "train_df.Activity.loc[(train_df.Activity == 'upsatirs')] = 'upstairs'\n",
    "train_df.Activity.unique()"
   ]
  },
  {
   "cell_type": "markdown",
   "metadata": {},
   "source": [
    "# Preprocessing \n",
    "\n",
    "\n",
    "## Split the data and labels"
   ]
  },
  {
   "cell_type": "code",
   "execution_count": null,
   "metadata": {},
   "outputs": [],
   "source": [
    "X_train = train_df[train_df.columns[:9]]\n",
    "y_train = train_df[train_df.columns[9:10]]"
   ]
  },
  {
   "cell_type": "code",
   "execution_count": null,
   "metadata": {},
   "outputs": [],
   "source": [
    "X_train "
   ]
  },
  {
   "cell_type": "code",
   "execution_count": null,
   "metadata": {
    "scrolled": false
   },
   "outputs": [],
   "source": [
    "y_train"
   ]
  },
  {
   "cell_type": "code",
   "execution_count": null,
   "metadata": {},
   "outputs": [],
   "source": [
    "y_train.Activity.unique()"
   ]
  },
  {
   "cell_type": "markdown",
   "metadata": {},
   "source": [
    "## Encode labels into number"
   ]
  },
  {
   "cell_type": "code",
   "execution_count": null,
   "metadata": {
    "scrolled": false
   },
   "outputs": [],
   "source": [
    "from sklearn.preprocessing import LabelEncoder\n",
    "\n",
    "encoder=LabelEncoder()\n",
    "y_train=encoder.fit_transform(y_train)\n",
    "y_train[:10]"
   ]
  },
  {
   "cell_type": "markdown",
   "metadata": {},
   "source": [
    "## Split training data into training and validation data"
   ]
  },
  {
   "cell_type": "code",
   "execution_count": null,
   "metadata": {},
   "outputs": [],
   "source": [
    "def train_test_split(X, y, split_size=0.8):\n",
    "    split= int(len(X) * split_size)\n",
    "    train_x = X[:split]\n",
    "    train_y = y[:split]\n",
    "    test_x = X[split:]\n",
    "    test_y = y[split: ]\n",
    "    return train_x, test_x, train_y, test_y\n",
    "\n",
    "X_train,X_test,y_train, y_test =train_test_split(X_train, y_train)\n",
    "\n",
    "print(\"X_train shape \", X_train.shape)\n",
    "print(\"Y train shape \", y_train.shape)\n",
    "print(\"X_test shape \", X_test.shape)\n",
    "print(\"y_test shape \", y_test.shape)"
   ]
  },
  {
   "cell_type": "markdown",
   "metadata": {},
   "source": [
    "## Convert dataset into time series sequence"
   ]
  },
  {
   "cell_type": "code",
   "execution_count": null,
   "metadata": {},
   "outputs": [],
   "source": [
    "from keras.preprocessing.sequence import TimeseriesGenerator\n",
    "\n",
    "n_time_steps = 100\n",
    "n_features = 9\n",
    "\n",
    "train_gen = TimeseriesGenerator(X_train.to_numpy(), y_train, length=n_time_steps, batch_size=1024)\n",
    "test_gen = TimeseriesGenerator(X_test.to_numpy(), y_test, length=n_time_steps, batch_size=1024)"
   ]
  },
  {
   "cell_type": "markdown",
   "metadata": {},
   "source": [
    "## Create and compile LSTM model"
   ]
  },
  {
   "cell_type": "code",
   "execution_count": null,
   "metadata": {},
   "outputs": [],
   "source": [
    "from keras.models import Sequential\n",
    "from keras.layers import Dense,Flatten, LSTM\n",
    "from keras.regularizers import l2\n",
    "from keras.optimizers import Adam"
   ]
  },
  {
   "cell_type": "code",
   "execution_count": null,
   "metadata": {},
   "outputs": [],
   "source": [
    "model=Sequential()\n",
    "model.add(LSTM(32, return_sequences=True, input_shape = (n_time_steps, n_features),\n",
    "              kernel_regularizer = l2(0.000001), bias_regularizer = l2(0.000001), name='lstm_1'))\n",
    "model.add(Flatten(name='flatten'))\n",
    "model.add(Dense(64, activation='relu',kernel_regularizer = l2(0.000001), bias_regularizer = l2(0.000001), name='dense_1' ))\n",
    "model.add(Dense(len(np.unique(y_train)), activation='softmax', \n",
    "                kernel_regularizer = l2(0.000001), bias_regularizer = l2(0.000001), name='output'))\n",
    "model.summary()"
   ]
  },
  {
   "cell_type": "code",
   "execution_count": null,
   "metadata": {},
   "outputs": [],
   "source": [
    "#compile\n",
    "model.compile(loss='sparse_categorical_crossentropy', optimizer=Adam(), metrics=['accuracy'])"
   ]
  },
  {
   "cell_type": "code",
   "execution_count": null,
   "metadata": {},
   "outputs": [],
   "source": [
    "# prepare callbacks\n",
    "from keras.callbacks import ModelCheckpoint\n",
    "\n",
    "callbacks= [ModelCheckpoint('model.h5', save_weights_only=False, save_best_only=True, verbose=1)]"
   ]
  },
  {
   "cell_type": "markdown",
   "metadata": {},
   "source": [
    "## Start training"
   ]
  },
  {
   "cell_type": "code",
   "execution_count": null,
   "metadata": {
    "scrolled": true
   },
   "outputs": [],
   "source": [
    "history = model.fit_generator(train_gen, epochs=5, validation_data=test_gen, callbacks=callbacks)"
   ]
  },
  {
   "cell_type": "code",
   "execution_count": null,
   "metadata": {},
   "outputs": [],
   "source": [
    "# stopping training here\n",
    "\n",
    "# loading the best saved model \n",
    "\n",
    "from keras.models import load_model\n",
    "model=load_model('model.h5')\n",
    "model.summary()"
   ]
  },
  {
   "cell_type": "markdown",
   "metadata": {},
   "source": [
    "# Exporting the model"
   ]
  },
  {
   "cell_type": "code",
   "execution_count": null,
   "metadata": {},
   "outputs": [],
   "source": [
    "from keras import backend as k\n",
    "from tensorflow.python.tools import freeze_graph, optimize_for_inference_lib\n",
    "import tensorflow as tf\n",
    "\n",
    "input_node_name = ['lstm_1_input']\n",
    "output_node_name = 'output/Softmax'\n",
    "model_name='har_model'"
   ]
  },
  {
   "cell_type": "code",
   "execution_count": null,
   "metadata": {},
   "outputs": [],
   "source": [
    "tf.train.write_graph(k.get_session().graph_def, 'models', model_name + '_graph.pbtxt')\n",
    "saver=tf.train.Saver()\n",
    "saver.save(k.get_session(), 'models/'+model_name + '.chkp')"
   ]
  },
  {
   "cell_type": "code",
   "execution_count": null,
   "metadata": {},
   "outputs": [],
   "source": [
    "freeze_graph.freeze_graph('models/'+model_name + '_graph.pbtxt', None, False, 'models/'+model_name+'.chkp',\n",
    "                         output_node_name, 'save/restore_all', 'save/Const:0', 'models/frozen_' + model_name + '.pb', True, \"\")"
   ]
  },
  {
   "cell_type": "code",
   "execution_count": null,
   "metadata": {},
   "outputs": [],
   "source": [
    "# Deployment of this model in next video \n"
   ]
  }
 ],
 "metadata": {
  "kernelspec": {
   "display_name": "Python 3",
   "language": "python",
   "name": "python3"
  },
  "language_info": {
   "codemirror_mode": {
    "name": "ipython",
    "version": 3
   },
   "file_extension": ".py",
   "mimetype": "text/x-python",
   "name": "python",
   "nbconvert_exporter": "python",
   "pygments_lexer": "ipython3",
   "version": "3.6.2"
  }
 },
 "nbformat": 4,
 "nbformat_minor": 4
}
